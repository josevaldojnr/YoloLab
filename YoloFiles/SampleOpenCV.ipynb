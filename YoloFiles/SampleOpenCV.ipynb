{
 "cells": [
  {
   "cell_type": "code",
   "execution_count": null,
   "id": "14a25181",
   "metadata": {
    "scrolled": true
   },
   "outputs": [
    {
     "name": "stderr",
     "output_type": "stream",
     "text": [
      "Using cache found in /root/.cache/torch/hub/ultralytics_yolov5_master\n",
      "YOLOv5 🚀 2024-10-30 Python-3.8.20 torch-2.4.1+cu121 CPU\n",
      "\n",
      "Fusing layers... \n",
      "YOLOv5s summary: 213 layers, 7225885 parameters, 0 gradients, 16.4 GFLOPs\n",
      "Adding AutoShape... \n"
     ]
    },
    {
     "name": "stdout",
     "output_type": "stream",
     "text": [
      "Press 'q' to quit the video.\n"
     ]
    }
   ],
   "source": [
    "import cv2\n",
    "import torch\n",
    "import warnings\n",
    "\n",
    "# Ignore future warnings\n",
    "warnings.simplefilter(action='ignore', category=FutureWarning)\n",
    "\n",
    "# Load YOLOv5 model (YOLOv5s is a small model that’s faster but slightly less accurate)\n",
    "model = torch.hub.load('ultralytics/yolov5', 'yolov5s')\n",
    "\n",
    "# Open the camera (0 is typically the default camera, change if using external)\n",
    "cap = cv2.VideoCapture('http://192.168.1.16:4747/video')\n",
    "\n",
    "if not cap.isOpened():\n",
    "    print(\"Error: Could not open camera.\")\n",
    "    exit()\n",
    "\n",
    "print(\"Press 'q' to quit the video.\")\n",
    "\n",
    "# Run loop to capture frames and detect objects\n",
    "while cap.isOpened():\n",
    "    # Capture a frame\n",
    "    ret, frame = cap.read()\n",
    "    if not ret:\n",
    "        print(\"Error: Failed to capture image.\")\n",
    "        break\n",
    "\n",
    "    # Run YOLOv5 model on the frame\n",
    "    results = model(frame)\n",
    "\n",
    "    # Print detected objects\n",
    "    detected_objects = results.xyxy[0]  # Get detections (x1, y1, x2, y2, conf, class)\n",
    "    if len(detected_objects) > 0:\n",
    "        for obj in detected_objects:\n",
    "            # Extract class ID and confidence\n",
    "            class_id = int(obj[5])  # The class index\n",
    "            confidence = obj[4].item()  # The confidence score\n",
    "            class_name = model.names[class_id]  # Get class name from index\n",
    "            \n",
    "            # Print detected object information\n",
    "            print(f\"Detected: {class_name}, Confidence: {confidence:.2f}\")\n",
    "\n",
    "    # Render results on the frame\n",
    "    frame = results.render()[0]  # results.render() returns a list of images; [0] takes the first one\n",
    "\n",
    "    # Display the frame with detections\n",
    "    cv2.imshow(\"YOLOv5 Object Detection\", frame)\n",
    "\n",
    "    # Break the loop if 'q' is pressed\n",
    "    if cv2.waitKey(1) & 0xFF == ord('q'):\n",
    "        break\n",
    "\n",
    "# Release the camera and close all OpenCV windows\n",
    "cap.release()\n",
    "cv2.destroyAllWindows()\n"
   ]
  },
  {
   "cell_type": "code",
   "execution_count": null,
   "id": "dc9decdf",
   "metadata": {},
   "outputs": [],
   "source": []
  },
  {
   "cell_type": "code",
   "execution_count": null,
   "id": "5a14d4e7-8c02-4851-b3df-14a119cd535a",
   "metadata": {},
   "outputs": [],
   "source": []
  }
 ],
 "metadata": {
  "kernelspec": {
   "display_name": "Python 3 (ipykernel)",
   "language": "python",
   "name": "python3"
  },
  "language_info": {
   "codemirror_mode": {
    "name": "ipython",
    "version": 3
   },
   "file_extension": ".py",
   "mimetype": "text/x-python",
   "name": "python",
   "nbconvert_exporter": "python",
   "pygments_lexer": "ipython3",
   "version": "3.8.20"
  }
 },
 "nbformat": 4,
 "nbformat_minor": 5
}
